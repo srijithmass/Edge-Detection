{
 "cells": [
  {
   "cell_type": "code",
   "execution_count": null,
   "id": "f458d212",
   "metadata": {},
   "outputs": [],
   "source": [
    "import cv2\n",
    "import numpy as np\n",
    "import matplotlib.pyplot as plt\n",
    "image1=cv2.imread ('AC.jpg') \n",
    "gray_image = cv2.cvtColor(image1,cv2.COLOR_BGR2GRAY)\n",
    "\n",
    "cv2.imshow('Gray',gray_image)\n",
    "\n",
    "img = cv2.GaussianBlur(gray_image,(3,3),0)\n",
    "sobelx = cv2.Sobel(gray_image,cv2.CV_64F,1,0,ksize=5)\n",
    "sobely = cv2.Sobel(gray_image,cv2.CV_64F,0,1,ksize=5)\n",
    "sobelxy =cv2.Sobel(gray_image,cv2.CV_64F,1,1,ksize=5)\n",
    "cv2.imshow('Sobel X',sobelx)\n",
    "cv2.imshow('Sobel Y',sobely)\n",
    "cv2.imshow('Sobel XY',sobelxy)\n",
    "\n",
    "laplacian=cv2.Laplacian(img,cv2.CV_64F)\n",
    "cv2.imshow('Laplacian',laplacian)\n",
    "\n",
    "canny_edges = cv2.Canny(gray_image, 120, 150)\n",
    "cv2.imshow('Canny Edges',canny_edges)\n",
    "\n",
    "cv2.waitKey(0)\n",
    "cv2.destroyAllWindows()\n"
   ]
  },
  {
   "cell_type": "code",
   "execution_count": null,
   "id": "d04d419c",
   "metadata": {},
   "outputs": [],
   "source": []
  },
  {
   "cell_type": "code",
   "execution_count": null,
   "id": "b27b04b0",
   "metadata": {},
   "outputs": [],
   "source": []
  },
  {
   "cell_type": "code",
   "execution_count": null,
   "id": "4ef96df4",
   "metadata": {},
   "outputs": [],
   "source": []
  }
 ],
 "metadata": {
  "kernelspec": {
   "display_name": "Python 3 (ipykernel)",
   "language": "python",
   "name": "python3"
  },
  "language_info": {
   "codemirror_mode": {
    "name": "ipython",
    "version": 3
   },
   "file_extension": ".py",
   "mimetype": "text/x-python",
   "name": "python",
   "nbconvert_exporter": "python",
   "pygments_lexer": "ipython3",
   "version": "3.10.10"
  }
 },
 "nbformat": 4,
 "nbformat_minor": 5
}
